{
 "cells": [
  {
   "cell_type": "markdown",
   "metadata": {},
   "source": [
    "# My Story - Lab\n",
    "\n",
    "Welcome to the first assignment in the IT4063C course.\n",
    "Instructions for this lab can be found on [Course Site](https://it4063.github.io/).\n",
    "\n",
    "You can find additional help at the following resources\n",
    "\n",
    "---\n"
   ]
  },
  {
   "cell_type": "markdown",
   "metadata": {},
   "source": [
    "> ⚠️ Don't modify this snippet of code, it's just here to ensure you have the right dependencies installed.\n"
   ]
  },
  {
   "cell_type": "code",
   "execution_count": 1,
   "metadata": {},
   "outputs": [
    {
     "name": "stdout",
     "output_type": "stream",
     "text": [
      "3.10.4 (main, Jun 29 2022, 18:34:01) [Clang 13.1.6 (clang-1316.0.21.2.3)]\n",
      "✅ All dependencies installed\n"
     ]
    }
   ],
   "source": [
    "import sys\n",
    "import pkg_resources\n",
    "\n",
    "# Ensure you have the right version of python installed\n",
    "print(sys.version)\n",
    "assert sys.version_info >= (3, 10), \"Use Python 3.10 or newer\"\n",
    "\n",
    "# Ensure you have the right dependencies installed\n",
    "\n",
    "required = {\"testbook\", \"poetry\", \"pytest\"}\n",
    "installed = {pkg.key for pkg in pkg_resources.working_set}\n",
    "missing = required - installed\n",
    "\n",
    "if missing:\n",
    "    print(\"Missing packages:\", missing)\n",
    "else:\n",
    "    print(\"✅ All dependencies installed\")\n"
   ]
  },
  {
   "cell_type": "markdown",
   "metadata": {},
   "source": [
    "## About me - <ENTER YOUR NAME>\n",
    "\n",
    "My name is <ENTER YOUR NAME>\n",
    "\n",
    "### My Experience\n",
    "\n",
    "<WRITE ABOUT YOUR EXPERIENCE>\n",
    "\n",
    "### Programming Languages I know\n",
    "\n",
    "<LIST YOUR PROGRAMMING LANGUAGES>\n",
    "\n",
    "### Projects and Achievements I'm proud of\n",
    "\n",
    "<TALK ABOUT THEM HERE>\n"
   ]
  },
  {
   "cell_type": "code",
   "execution_count": 2,
   "metadata": {},
   "outputs": [
    {
     "name": "stdout",
     "output_type": "stream",
     "text": [
      "Hello World\n"
     ]
    }
   ],
   "source": [
    "def printHelloWorld():\n",
    "    print(\"Hello World\")\n",
    "\n",
    "\n",
    "def add(a, b):\n",
    "    return a + b\n",
    "\n",
    "printHelloWorld()\n"
   ]
  },
  {
   "cell_type": "markdown",
   "metadata": {},
   "source": [
    "Make the above function print hello World\n"
   ]
  },
  {
   "cell_type": "code",
   "execution_count": 3,
   "metadata": {},
   "outputs": [
    {
     "data": {
      "text/plain": [
       "0.30000000000000004"
      ]
     },
     "execution_count": 3,
     "metadata": {},
     "output_type": "execute_result"
    }
   ],
   "source": [
    "0.1 + 0.1 + 0.1\n"
   ]
  },
  {
   "cell_type": "code",
   "execution_count": 4,
   "metadata": {},
   "outputs": [
    {
     "data": {
      "text/plain": [
       "0.30000000000000004"
      ]
     },
     "execution_count": 4,
     "metadata": {},
     "output_type": "execute_result"
    }
   ],
   "source": [
    "0.2 + 0.1\n"
   ]
  },
  {
   "cell_type": "code",
   "execution_count": 5,
   "metadata": {},
   "outputs": [],
   "source": [
    "x = 2**63\n"
   ]
  },
  {
   "cell_type": "code",
   "execution_count": 6,
   "metadata": {},
   "outputs": [
    {
     "data": {
      "text/plain": [
       "7237005577332262213973186563042994240829374041602535252466099000494570602496"
      ]
     },
     "execution_count": 6,
     "metadata": {},
     "output_type": "execute_result"
    }
   ],
   "source": [
    "x = x**4\n",
    "x\n"
   ]
  },
  {
   "cell_type": "code",
   "execution_count": null,
   "metadata": {},
   "outputs": [],
   "source": []
  }
 ],
 "metadata": {
  "interpreter": {
   "hash": "4cc7feb4e1c51974bb6f4fc3aa9966d59879dfc567a5ae461e0ca09f3c72aeb6"
  },
  "kernelspec": {
   "display_name": "Python 3.10.4 64-bit ('it4063c')",
   "language": "python",
   "name": "python3"
  },
  "language_info": {
   "codemirror_mode": {
    "name": "ipython",
    "version": 3
   },
   "file_extension": ".py",
   "mimetype": "text/x-python",
   "name": "python",
   "nbconvert_exporter": "python",
   "pygments_lexer": "ipython3",
   "version": "3.10.4"
  },
  "orig_nbformat": 4,
  "vscode": {
   "interpreter": {
    "hash": "d0dab5599e0b02a45531b0f50368156d8039e9683a48ec4070105370b34120bc"
   }
  }
 },
 "nbformat": 4,
 "nbformat_minor": 2
}
