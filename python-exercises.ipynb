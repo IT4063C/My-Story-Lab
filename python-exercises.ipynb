{
 "cells": [
  {
   "cell_type": "markdown",
   "metadata": {},
   "source": [
    "# Python Exercises\n",
    "## Emojis Legend\n",
    "- 👨🏻‍💻 - Tells you about something specific you need to do.\n",
    "- 🦉 - Will tell you about some hints, tips and best practices\n",
    "- 📜 - provides links to documentations\n",
    "- 🚩 - marks a good spot for you to commit your code to git"
   ]
  },
  {
   "cell_type": "code",
   "execution_count": 27,
   "metadata": {},
   "outputs": [],
   "source": [
    "# 🦉 Generally, it is a good practice to import the modules you use at the top of your code.\n",
    "# 🦉 You can also import modules from the Python standard library, or from third-party libraries installed using (pip, conda, poetry, etc.).\n",
    "# 👨🏻‍💻 Use this Code block to import the modules you will need.\n",
    "import numpy as np\n"
   ]
  },
  {
   "cell_type": "markdown",
   "metadata": {},
   "source": [
    "## Exercise\n",
    "In one line and (one line only), create a numpy array that contains a range of evenly spaced intervals. Starting with number 3, ending with the number 15, with an intervals of 3\n",
    "> Output should look like `array([ 3,  6,  9, 12])`\n",
    "\n",
    "📜 [Here's a link to the `numpy.arange` function](https://numpy.org/doc/stable/reference/generated/numpy.arange.html?highlight=arange#numpy.arange)"
   ]
  },
  {
   "cell_type": "code",
   "execution_count": 28,
   "metadata": {},
   "outputs": [
    {
     "name": "stdout",
     "output_type": "stream",
     "text": [
      "hello world\n"
     ]
    }
   ],
   "source": [
    "np.arange(3,15,3)\n"
   ]
  },
  {
   "cell_type": "markdown",
   "metadata": {},
   "source": [
    "## Exercise\n",
    "in the following cell, I used the `numpy.empty` function to generate a 2D array (2x2).\n",
    "Although, It's supposed to be empty, it seems to have generated some values. Why?\n",
    "\n",
    "📜 [`numpy.empty` function](https://numpy.org/doc/stable/reference/generated/numpy.empty.html)\n"
   ]
  },
  {
   "cell_type": "code",
   "execution_count": null,
   "metadata": {},
   "outputs": [],
   "source": []
  },
  {
   "cell_type": "code",
   "execution_count": 12,
   "metadata": {},
   "outputs": [
    {
     "data": {
      "text/plain": [
       "array([[0.00000000e+000, 5.21501957e-310],\n",
       "       [5.21501957e-310, 5.21501957e-310]])"
      ]
     },
     "execution_count": 12,
     "metadata": {},
     "output_type": "execute_result"
    }
   ],
   "source": [
    "np.empty([2,2])"
   ]
  },
  {
   "cell_type": "markdown",
   "metadata": {},
   "source": [
    "👨🏻‍💻 Enter your Answer here:"
   ]
  },
  {
   "cell_type": "markdown",
   "metadata": {},
   "source": [
    "## Exercise\n",
    "Given an array `some_array` of a certain shape, create another array of the same shape with the a space for input\n",
    "\n",
    "- 📜 [`numpy.copy` function](https://numpy.org/doc/stable/reference/generated/numpy.copy.html)\n",
    "- 📜 [`numpy.fill` function](https://numpy.org/doc/stable/reference/generated/numpy.chararray.fill.htm)\n",
    "- 📜 [`numpy.full_like` function](https://numpy.org/doc/stable/reference/generated/numpy.full_like.html)"
   ]
  },
  {
   "cell_type": "code",
   "execution_count": 24,
   "metadata": {},
   "outputs": [
    {
     "name": "stdout",
     "output_type": "stream",
     "text": [
      "(5,)\n"
     ]
    }
   ],
   "source": [
    "some_array = np.array([1,2,3,4,5])\n",
    "print(some_array.shape)"
   ]
  },
  {
   "cell_type": "markdown",
   "metadata": {},
   "source": [
    "## Exercise\n",
    "given 2 numpy arrays of strings, one containing first names, and the other containing last names. Concatenate the arrays into a single array, with full names\n",
    "\n",
    "🦉 I'm not going to give you the answer directly. However, these doc links should guide you\n",
    "\n",
    "- 📜 [`numpy.concatenate` function](https://numpy.org/doc/stable/reference/generated/numpy.concatenate.html)\n",
    "- 📜 [`numpy.char.add` function](https://numpy.org/doc/stable/reference/generated/numpy.char.add.html)\n"
   ]
  },
  {
   "cell_type": "code",
   "execution_count": 23,
   "metadata": {},
   "outputs": [
    {
     "name": "stdout",
     "output_type": "stream",
     "text": [
      "[' ' ' ' ' ']\n",
      "['Bob Smith' 'Jane Jones' 'Mallory Williams']\n"
     ]
    }
   ],
   "source": [
    "first_names = np.array([\"Bob\", \"Jane\", \"Mallory\"])\n",
    "last_names = np.array([\"Smith\", \"Jones\", \"Williams\"])\n",
    "\n",
    "# 👨🏻‍💻 a simple concatenation would look like this: ['BobSmith' 'JaneJones' 'MalloryWilliams']\n",
    "\n",
    "\n",
    "spaces = np.copy(first_names)\n",
    "spaces.fill(\" \")\n",
    "spaces2 = np.full_like(first_names, \" \")\n",
    "print(spaces2)\n",
    "\n",
    "# 👨🏻‍💻 Use the np.concatenate function to concatenate the first_names and last_names arrays.\n",
    "# 🦉 You can't simply use the cancatenate function to concatenate the first_names and last_names arrays. This would combine the arrays into a single array. Like this: ['Bob' 'Jane' 'Mallory' ' ' ' ' ' ' 'Smith' 'Jones' 'Williams']\n",
    "# full_names = np.concatenate((first_names, spaces, last_names))\n",
    "_full_names = np.char.add(first_names, spaces2)\n",
    "full_names = np.char.add(_full_names, last_names)\n",
    "print(full_names)"
   ]
  },
  {
   "cell_type": "markdown",
   "metadata": {},
   "source": [
    "## Exercise \n",
    "Wrap the above in a function named `get_full_names(...)` such that you only call one function passing in first_names and last_names as parameters, and it would RETURN an array of the same length with the full names"
   ]
  },
  {
   "cell_type": "code",
   "execution_count": 26,
   "metadata": {},
   "outputs": [
    {
     "name": "stdout",
     "output_type": "stream",
     "text": [
      "['Tom Smith' 'Jane Jones']\n",
      "['Tom Smith' 'Jane Jones' 'John Reed']\n"
     ]
    }
   ],
   "source": [
    "def get_full_names(first_names, last_names):\n",
    "  spaces = np.full_like(first_names, \" \")\n",
    "  first_names_with_spaces = np.char.add(first_names, spaces)\n",
    "  return np.char.add(first_names_with_spaces, last_names)\n",
    "\n",
    "# All of the following calls should work\n",
    "print(get_full_names([\"Tom\", \"Jane\"], [\"Smith\", \"Jones\"]))\n",
    "print(get_full_names([\"Tom\", \"Jane\", \"John\"], [\"Smith\", \"Jones\", \"Reed\"]))"
   ]
  },
  {
   "cell_type": "markdown",
   "metadata": {},
   "source": [
    "## Exercise\n",
    "Write a program that RETURNS (not prints) the numbers from 1 to 100. But for multiples of three print “Fizz” instead of the number and for the multiples of five print “Buzz”. For numbers which are multiples of both three and five print “FizzBuzz”."
   ]
  },
  {
   "cell_type": "code",
   "execution_count": 2,
   "metadata": {},
   "outputs": [],
   "source": [
    "# 🦉 Use this Code block to define your functions.\n",
    "def fizzbuzz():\n",
    "    return 0\n",
    "    # for i in range(1, 51):\n",
    "    #     if i % 3 == 0 and i % 5 == 0:\n",
    "    #         print(\"FizzBuzz\")\n",
    "    #     elif i % 3 == 0:\n",
    "    #         print(\"Fizz\")\n",
    "    #     elif i % 5 == 0:\n",
    "    #         print(\"Buzz\")\n",
    "    #     else:\n",
    "    #         print(i)\n",
    "\n",
    "# 👨🏻‍💻 What's missing here for the function to execute?"
   ]
  },
  {
   "cell_type": "markdown",
   "metadata": {},
   "source": [
    "## Wrap up\n",
    "Just to get familiar with working with pure python files `*.py` files, export this notebook to a python script file and make sure it runs. \n",
    "You should be able to get something that likes like this. \n",
    "![final page](#)"
   ]
  },
  {
   "cell_type": "markdown",
   "metadata": {},
   "source": []
  }
 ],
 "metadata": {
  "kernelspec": {
   "display_name": "Python 3.10.4 64-bit ('it4063c')",
   "language": "python",
   "name": "python3"
  },
  "language_info": {
   "codemirror_mode": {
    "name": "ipython",
    "version": 3
   },
   "file_extension": ".py",
   "mimetype": "text/x-python",
   "name": "python",
   "nbconvert_exporter": "python",
   "pygments_lexer": "ipython3",
   "version": "3.10.4"
  },
  "orig_nbformat": 4,
  "vscode": {
   "interpreter": {
    "hash": "4cc7feb4e1c51974bb6f4fc3aa9966d59879dfc567a5ae461e0ca09f3c72aeb6"
   }
  }
 },
 "nbformat": 4,
 "nbformat_minor": 2
}
